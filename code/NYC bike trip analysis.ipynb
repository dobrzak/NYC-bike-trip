{
 "cells": [
  {
   "cell_type": "markdown",
   "metadata": {},
   "source": [
    "# Analysis of the NYC bike trip data from the last month\n",
    "The data has been download from https://s3.amazonaws.com/tripdata/index.html\n",
    "The aim is to address the following requirement:\n",
    "*  The manager wants to add insurance coverage for the rides that last more than 30 minutes\n",
    "    *  How many trips would be covered?\n",
    "    *  If we could charge 0.2 USD for each ride that takes longer than 30 minutes, how much revenue could we expect?\n",
    "*  The manager wants to understand the travel distance in distance buckets (0-1,2-4,4-9,10+). Please make a diagram.\n",
    "\n"
   ]
  },
  {
   "cell_type": "markdown",
   "metadata": {},
   "source": [
    "### Import libraries"
   ]
  },
  {
   "cell_type": "code",
   "execution_count": 43,
   "metadata": {},
   "outputs": [],
   "source": [
    "from pyspark.sql import SparkSession\n",
    "from pyspark.sql.functions import col, udf, array\n",
    "import pyspark.sql.types as tp\n",
    "import matplotlib.pyplot as plt\n",
    "import pandas as pd\n",
    "from geopy.distance import geodesic"
   ]
  },
  {
   "cell_type": "markdown",
   "metadata": {},
   "source": [
    "### Setup spark session"
   ]
  },
  {
   "cell_type": "code",
   "execution_count": 44,
   "metadata": {},
   "outputs": [],
   "source": [
    "spark = SparkSession.builder \\\n",
    "    .appName(\"NYC bike trip analysis\") \\\n",
    "    .getOrCreate()"
   ]
  },
  {
   "cell_type": "markdown",
   "metadata": {},
   "source": [
    "### Load the data from the last month\n",
    "*Assumption: I have used the last available file from the AWS bucket, which is supposed to cover September*"
   ]
  },
  {
   "cell_type": "code",
   "execution_count": 45,
   "metadata": {},
   "outputs": [
    {
     "name": "stderr",
     "output_type": "stream",
     "text": [
      "                                                                                \r"
     ]
    }
   ],
   "source": [
    "df = spark.read.csv(\"../data/JC-202409-citibike-tripdata.csv\", header=True, inferSchema=True)"
   ]
  },
  {
   "cell_type": "markdown",
   "metadata": {},
   "source": [
    "### Placeholder for basic EDA\n",
    "*Please uncomment the desired line of code before running*"
   ]
  },
  {
   "cell_type": "code",
   "execution_count": 46,
   "metadata": {},
   "outputs": [],
   "source": [
    "#df.show()\n",
    "#df.count()\n",
    "#df.printSchema()\n",
    "#df.summary().show()"
   ]
  },
  {
   "cell_type": "markdown",
   "metadata": {},
   "source": [
    "### Identify how many trips take longer than 30 minutes\n",
    "\n",
    "-  In the first step the new column *seconds_diff*, which calculates the duration of the trip in seconds, is added. By converting it to long, the values will be converted to unix epoch time in seconds and difference will be also is seconds\n",
    "-  In the second step the dateframe is filtered to find the trips which take longer than 30 minutes"
   ]
  },
  {
   "cell_type": "code",
   "execution_count": 47,
   "metadata": {},
   "outputs": [
    {
     "name": "stdout",
     "output_type": "stream",
     "text": [
      "There are 4773 trips in the last month taking longer than 30 minutes\n"
     ]
    }
   ],
   "source": [
    "long_trips_df = df.withColumn('seconds_diff', col('ended_at').cast('long') - col('started_at').cast('long'))\n",
    "long_trips_cnt = long_trips_df.filter(col('seconds_diff')/60 > 30).count()\n",
    "\n",
    "#long_trips_df.show()\n",
    "\n",
    "print(f'There are {long_trips_cnt} trips in the last month taking longer than 30 minutes')\n"
   ]
  },
  {
   "cell_type": "markdown",
   "metadata": {},
   "source": [
    "### Calculating expected revenue if we charge 0.2 USD for each ride that takes longer than 30 minutes\n"
   ]
  },
  {
   "cell_type": "code",
   "execution_count": 48,
   "metadata": {},
   "outputs": [
    {
     "name": "stdout",
     "output_type": "stream",
     "text": [
      "Potential revenue from long trips: $954.60\n"
     ]
    }
   ],
   "source": [
    "charge_per_trip = 0.2\n",
    "expected_revenue = long_trips_cnt * charge_per_trip\n",
    "print(f\"Potential revenue from long trips: ${expected_revenue:.2f}\")"
   ]
  },
  {
   "cell_type": "markdown",
   "metadata": {},
   "source": [
    "### Calculating trips distance\n",
    "\n",
    "-  I have used the well known library for geospatial calculations in python https://geopy.readthedocs.io/en/stable/index.html?highlight=distance#module-geopy.distance\n",
    "-  The alternative will be to used the Haversine formula https://en.wikipedia.org/wiki/Haversine_formula here is an example of the implementation in python https://www.geeksforgeeks.org/haversine-formula-to-find-distance-between-two-points-on-a-sphere/\n"
   ]
  },
  {
   "cell_type": "code",
   "execution_count": 49,
   "metadata": {},
   "outputs": [],
   "source": [
    "def distance(coord_start, coord_end):\n",
    "    return geodesic(coord_start, coord_end).m #in meters\n",
    "\n",
    "#registering udf\n",
    "distance_udf = udf(distance, tp.FloatType())\n",
    "\n",
    "distance_df = df.withColumn('distance_m', distance_udf(array(\"start_lat\", \"start_lng\"), array(\"end_lat\", \"end_lng\")))\n",
    "\n",
    "#df_distance.show()\n"
   ]
  },
  {
   "cell_type": "markdown",
   "metadata": {},
   "source": [
    "### Adding buckets for the distance: (0-1,2-4,4-9,10+)\n",
    "\n",
    "<font color='red'>The buckets provided in the requirement have gaps, for example there is no coverage for 1-2 and 9-10, therefore I have ammended it to (0-1, 1-4, 4-10, 10+) </font>\n",
    "\n",
    "*I think that there should be an additional column in the source data which provides the distance. Firstly, the calculated distance is the shortest distance between the start and the end coordinations, the trip will be longer as it is never a straight line between these points. Secondly, if the start and the end point are equal the distance will be incorrectly calculated as 0.*"
   ]
  },
  {
   "cell_type": "code",
   "execution_count": 50,
   "metadata": {},
   "outputs": [],
   "source": [
    "def distance_bucket(distance):\n",
    "    if distance <= 1:\n",
    "        return \"0-1\"\n",
    "    elif distance <= 4:\n",
    "        return \"1-4\"\n",
    "    elif distance <= 10:\n",
    "        return \"4-10\"\n",
    "    else:\n",
    "        return \"10+\"\n",
    "    \n",
    "#registering udf\n",
    "distance_bucket_udf = udf(distance_bucket, tp.StringType())\n",
    "\n",
    "distance_buckets_df = distance_df.withColumn('distance_bucket', distance_bucket_udf(col('distance_m')/1000))\n",
    "\n",
    "#df_distance_buckets.show()"
   ]
  },
  {
   "cell_type": "markdown",
   "metadata": {},
   "source": [
    "### Drawing the plot"
   ]
  },
  {
   "cell_type": "code",
   "execution_count": 51,
   "metadata": {},
   "outputs": [
    {
     "name": "stderr",
     "output_type": "stream",
     "text": [
      "                                                                                \r"
     ]
    },
    {
     "data": {
      "image/png": "[encoded data removed]",
      "text/plain": [
       "<Figure size 640x480 with 1 Axes>"
      ]
     },
     "metadata": {},
     "output_type": "display_data"
    }
   ],
   "source": [
    "#converting pyspark dataframe to panda dataframe\n",
    "distance_buckets_pd = distance_buckets_df.groupBy(\"distance_bucket\").count().toPandas()\n",
    "\n",
    "\n",
    "plt.bar(distance_buckets_pd[\"distance_bucket\"], distance_buckets_pd[\"count\"])\n",
    "plt.xlabel(\"Distance Buckets (km)\")\n",
    "plt.ylabel(\"Number of Trips\")\n",
    "plt.title(\"Histogram of Bike Trips by Distance (Last Month)\")\n",
    "plt.xticks(rotation=45)  # Rotate x-axis labels for better readability\n",
    "plt.tight_layout()\n",
    "plt.show()"
   ]
  }
 ],
 "metadata": {
  "kernelspec": {
   "display_name": "Python 3",
   "language": "python",
   "name": "python3"
  },
  "language_info": {
   "codemirror_mode": {
    "name": "ipython",
    "version": 3
   },
   "file_extension": ".py",
   "mimetype": "text/x-python",
   "name": "python",
   "nbconvert_exporter": "python",
   "pygments_lexer": "ipython3",
   "version": "3.13.0"
  }
 },
 "nbformat": 4,
 "nbformat_minor": 2
}
